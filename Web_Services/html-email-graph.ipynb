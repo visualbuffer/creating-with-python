{
 "cells": [
  {
   "cell_type": "code",
   "execution_count": 1,
   "id": "57d980af",
   "metadata": {},
   "outputs": [
    {
     "name": "stdout",
     "output_type": "stream",
     "text": [
      "/bin/bash: -c: line 0: syntax error near unexpected token `https://miro.medium.com/v2/resize:fit:700/1*QJb5K4bUmAt_zmy5ILWUGw.png'\r\n",
      "/bin/bash: -c: line 0: `[](https://miro.medium.com/v2/resize:fit:700/1*QJb5K4bUmAt_zmy5ILWUGw.png)'\r\n"
     ]
    }
   ],
   "source": [
    "![]()"
   ]
  },
  {
   "cell_type": "code",
   "execution_count": 2,
   "id": "499200c3",
   "metadata": {},
   "outputs": [
    {
     "name": "stderr",
     "output_type": "stream",
     "text": [
      "/var/folders/s0/vnsxggzj0r3bfmnqkzpps3nh0000gn/T/ipykernel_1756/212060394.py:12: MatplotlibDeprecationWarning: You are modifying the state of a globally registered colormap. This has been deprecated since 3.3 and in 3.6, you will not be able to modify a registered colormap in-place. To remove this warning, you can make a copy of the colormap first. cmap = mpl.cm.get_cmap(\"summer\").copy()\n",
      "  cmap.set_bad('white',1.)\n"
     ]
    }
   ],
   "source": [
    "import matplotlib.cm as cm\n",
    "import matplotlib.colors as colors\n",
    "import pandas as pd\n",
    "import numpy as np\n",
    "\n",
    "d = np.random.randint(0,20,size=(8,7))\n",
    "df = pd.DataFrame(data =d,columns=['Mon','Tue','Wed','Thur','Fri','Sat','Sun'])\n",
    "\n",
    "\n",
    "def heatmapHtml(df):\n",
    "    cmap = cm.get_cmap('summer')    \n",
    "    cmap.set_bad('white',1.)\n",
    "    nrows, ncolumns = df.shape\n",
    "    minimum = np.nanmin(df.values)\n",
    "    maximum = np.nanmax(df.values)\n",
    "    norm = colors.Normalize(vmin=minimum, vmax=maximum)\n",
    "    table=\"\"\" <style>\n",
    "                .value{ margin: 0px;display: none;padding: 0px; }\n",
    "                .label{  margin: 0px; padding: 0px;  }\n",
    "                .cell:hover>.value{ display: inline-block; }\n",
    "                .table{table-layout:fixed;width:100%; min-width: 400px;height: 50%;min-height: 400px;}\n",
    "                .ylabel{padding: 0px;cursor:pointer;opacity: 0.8;width: 10px;height: 10px;text-align: center;}\n",
    "            </style>\n",
    "    \n",
    "                <table class=\"table\" table-layout=\"fixed\" border=\"0\">\n",
    "                <thead>\n",
    "                    <tr>\n",
    "                    <th  width=\"15%\"> <h6 class=\"label\" ></h6></th>\"\"\"\n",
    "    for c in range(ncolumns):\n",
    "        table = table + \"\"\" <th> <h6 class=\"label\" >\"\"\"+str(df.columns[c]) +  \"\"\"</h6></th>   \"\"\"        \n",
    "    table = table + \"\"\"   </tr></thead><tbody> \"\"\"   \n",
    "    for r in range(nrows):\n",
    "        table= table + \"\"\"<tr> <td class=\"ylabel\" > <h6 class = \"label\"> \"\"\" + str(df.index[r]) + \"\"\"</h6></td> \"\"\"\n",
    "        for c in range(ncolumns):\n",
    "            value= df.iloc[r,c]\n",
    "            if np.isnan(value):\n",
    "                hexcode=\"#ffffff\"\n",
    "#                print value, c\n",
    "            else:\n",
    "                hexcode =colors.rgb2hex(cmap(norm(  value    )))\n",
    "            table=table + \"\"\"<td style=\"background:\"\"\" + hexcode + \"\"\";\" class=\"cell\" ><h6 class = \"value\">\"\"\"+ str(value)+ \"\"\"</h6></td>\"\"\"\n",
    "        table = table+ \"\"\" </tr> \"\"\"\n",
    "    table = table + \"\"\" </tbody></table> \"\"\"\n",
    "    hexmin=colors.rgb2hex(cmap(norm(  minimum    )))\n",
    "    hexmid=colors.rgb2hex(cmap(norm(  (minimum + maximum)/2   )))\n",
    "    hexmax=colors.rgb2hex(cmap(norm(  maximum    )))\n",
    "    mid = str(int(round((minimum + maximum)/2)) )\n",
    "    maximum =str(int(round( maximum)) )\n",
    "    minimum =str(int(round( minimum)) )\n",
    "    full=\"100%\"\n",
    "    quarter=\"25%\"\n",
    "    table=table+ \"\"\"\n",
    "            <hr>\n",
    "            <table width=\"%(full)s\">\n",
    "                <tr width = \"%(full)s\"  height =\"10\">\n",
    "                    <td  style=\"width: %(quarter)s\"> <h6 style=\"margin:2px;\"> Legend</h6></td>\n",
    "                    <td style=\"background: %(hexmin)s; width: %(quarter)s; color:white;\"><h6 style=\"margin:2px;\">Minimum %(minimum)s</h6></td>\n",
    "                    <td style=\"background: %(hexmid)s; width: %(quarter)s\"><h6 style=\"margin:2px;\">Average %(mid)s</h6></td>\n",
    "                    <td style=\"background: %(hexmax)s; width: %(quarter)s\"><h6 style=\"margin:2px;\">Maximum %(maximum)s</h6></td>\n",
    "                </tr>\n",
    "            </table>\n",
    "    \"\"\" % { \"minimum\":minimum , \"maximum\":maximum , \"mid\":mid , \"hexmin\":hexmin , \"hexmid\":hexmid , \"hexmax\":hexmax, \"quarter\" :quarter , \"full\" :full  }\n",
    "    return table\n",
    "    \n",
    "table  = heatmapHtml(df)"
   ]
  },
  {
   "cell_type": "code",
   "execution_count": 3,
   "id": "4f7d81aa",
   "metadata": {},
   "outputs": [
    {
     "name": "stderr",
     "output_type": "stream",
     "text": [
      "/var/folders/s0/vnsxggzj0r3bfmnqkzpps3nh0000gn/T/ipykernel_1756/3187354023.py:1: DeprecationWarning: Importing display from IPython.core.display is deprecated since IPython 7.14, please import from IPython display\n",
      "  from IPython.core.display import display, HTML\n"
     ]
    },
    {
     "data": {
      "text/html": [
       " <style>\n",
       "                .value{ margin: 0px;display: none;padding: 0px; }\n",
       "                .label{  margin: 0px; padding: 0px;  }\n",
       "                .cell:hover>.value{ display: inline-block; }\n",
       "                .table{table-layout:fixed;width:100%; min-width: 400px;height: 50%;min-height: 400px;}\n",
       "                .ylabel{padding: 0px;cursor:pointer;opacity: 0.8;width: 10px;height: 10px;text-align: center;}\n",
       "            </style>\n",
       "    \n",
       "                <table class=\"table\" table-layout=\"fixed\" border=\"0\">\n",
       "                <thead>\n",
       "                    <tr>\n",
       "                    <th  width=\"15%\"> <h6 class=\"label\" ></h6></th> <th> <h6 class=\"label\" >Mon</h6></th>    <th> <h6 class=\"label\" >Tue</h6></th>    <th> <h6 class=\"label\" >Wed</h6></th>    <th> <h6 class=\"label\" >Thur</h6></th>    <th> <h6 class=\"label\" >Fri</h6></th>    <th> <h6 class=\"label\" >Sat</h6></th>    <th> <h6 class=\"label\" >Sun</h6></th>      </tr></thead><tbody> <tr> <td class=\"ylabel\" > <h6 class = \"label\"> 0</h6></td> <td style=\"background:#79bc66;\" class=\"cell\" ><h6 class = \"value\">9</h6></td><td style=\"background:#1a8c66;\" class=\"cell\" ><h6 class = \"value\">2</h6></td><td style=\"background:#008066;\" class=\"cell\" ><h6 class = \"value\">0</h6></td><td style=\"background:#d7eb66;\" class=\"cell\" ><h6 class = \"value\">16</h6></td><td style=\"background:#79bc66;\" class=\"cell\" ><h6 class = \"value\">9</h6></td><td style=\"background:#5eae66;\" class=\"cell\" ><h6 class = \"value\">7</h6></td><td style=\"background:#d7eb66;\" class=\"cell\" ><h6 class = \"value\">16</h6></td> </tr> <tr> <td class=\"ylabel\" > <h6 class = \"label\"> 1</h6></td> <td style=\"background:#d7eb66;\" class=\"cell\" ><h6 class = \"value\">16</h6></td><td style=\"background:#86c266;\" class=\"cell\" ><h6 class = \"value\">10</h6></td><td style=\"background:#43a166;\" class=\"cell\" ><h6 class = \"value\">5</h6></td><td style=\"background:#ffff66;\" class=\"cell\" ><h6 class = \"value\">19</h6></td><td style=\"background:#ffff66;\" class=\"cell\" ><h6 class = \"value\">19</h6></td><td style=\"background:#86c266;\" class=\"cell\" ><h6 class = \"value\">10</h6></td><td style=\"background:#50a866;\" class=\"cell\" ><h6 class = \"value\">6</h6></td> </tr> <tr> <td class=\"ylabel\" > <h6 class = \"label\"> 2</h6></td> <td style=\"background:#94ca66;\" class=\"cell\" ><h6 class = \"value\">11</h6></td><td style=\"background:#afd766;\" class=\"cell\" ><h6 class = \"value\">13</h6></td><td style=\"background:#1a8c66;\" class=\"cell\" ><h6 class = \"value\">2</h6></td><td style=\"background:#1a8c66;\" class=\"cell\" ><h6 class = \"value\">2</h6></td><td style=\"background:#289366;\" class=\"cell\" ><h6 class = \"value\">3</h6></td><td style=\"background:#f2f866;\" class=\"cell\" ><h6 class = \"value\">18</h6></td><td style=\"background:#5eae66;\" class=\"cell\" ><h6 class = \"value\">7</h6></td> </tr> <tr> <td class=\"ylabel\" > <h6 class = \"label\"> 3</h6></td> <td style=\"background:#1a8c66;\" class=\"cell\" ><h6 class = \"value\">2</h6></td><td style=\"background:#cae466;\" class=\"cell\" ><h6 class = \"value\">15</h6></td><td style=\"background:#0d8666;\" class=\"cell\" ><h6 class = \"value\">1</h6></td><td style=\"background:#ffff66;\" class=\"cell\" ><h6 class = \"value\">19</h6></td><td style=\"background:#94ca66;\" class=\"cell\" ><h6 class = \"value\">11</h6></td><td style=\"background:#86c266;\" class=\"cell\" ><h6 class = \"value\">10</h6></td><td style=\"background:#1a8c66;\" class=\"cell\" ><h6 class = \"value\">2</h6></td> </tr> <tr> <td class=\"ylabel\" > <h6 class = \"label\"> 4</h6></td> <td style=\"background:#79bc66;\" class=\"cell\" ><h6 class = \"value\">9</h6></td><td style=\"background:#94ca66;\" class=\"cell\" ><h6 class = \"value\">11</h6></td><td style=\"background:#afd766;\" class=\"cell\" ><h6 class = \"value\">13</h6></td><td style=\"background:#94ca66;\" class=\"cell\" ><h6 class = \"value\">11</h6></td><td style=\"background:#1a8c66;\" class=\"cell\" ><h6 class = \"value\">2</h6></td><td style=\"background:#0d8666;\" class=\"cell\" ><h6 class = \"value\">1</h6></td><td style=\"background:#e5f266;\" class=\"cell\" ><h6 class = \"value\">17</h6></td> </tr> <tr> <td class=\"ylabel\" > <h6 class = \"label\"> 5</h6></td> <td style=\"background:#008066;\" class=\"cell\" ><h6 class = \"value\">0</h6></td><td style=\"background:#0d8666;\" class=\"cell\" ><h6 class = \"value\">1</h6></td><td style=\"background:#79bc66;\" class=\"cell\" ><h6 class = \"value\">9</h6></td><td style=\"background:#94ca66;\" class=\"cell\" ><h6 class = \"value\">11</h6></td><td style=\"background:#e5f266;\" class=\"cell\" ><h6 class = \"value\">17</h6></td><td style=\"background:#359a66;\" class=\"cell\" ><h6 class = \"value\">4</h6></td><td style=\"background:#6bb566;\" class=\"cell\" ><h6 class = \"value\">8</h6></td> </tr> <tr> <td class=\"ylabel\" > <h6 class = \"label\"> 6</h6></td> <td style=\"background:#359a66;\" class=\"cell\" ><h6 class = \"value\">4</h6></td><td style=\"background:#5eae66;\" class=\"cell\" ><h6 class = \"value\">7</h6></td><td style=\"background:#1a8c66;\" class=\"cell\" ><h6 class = \"value\">2</h6></td><td style=\"background:#86c266;\" class=\"cell\" ><h6 class = \"value\">10</h6></td><td style=\"background:#289366;\" class=\"cell\" ><h6 class = \"value\">3</h6></td><td style=\"background:#0d8666;\" class=\"cell\" ><h6 class = \"value\">1</h6></td><td style=\"background:#e5f266;\" class=\"cell\" ><h6 class = \"value\">17</h6></td> </tr> <tr> <td class=\"ylabel\" > <h6 class = \"label\"> 7</h6></td> <td style=\"background:#bcde66;\" class=\"cell\" ><h6 class = \"value\">14</h6></td><td style=\"background:#6bb566;\" class=\"cell\" ><h6 class = \"value\">8</h6></td><td style=\"background:#008066;\" class=\"cell\" ><h6 class = \"value\">0</h6></td><td style=\"background:#79bc66;\" class=\"cell\" ><h6 class = \"value\">9</h6></td><td style=\"background:#79bc66;\" class=\"cell\" ><h6 class = \"value\">9</h6></td><td style=\"background:#6bb566;\" class=\"cell\" ><h6 class = \"value\">8</h6></td><td style=\"background:#1a8c66;\" class=\"cell\" ><h6 class = \"value\">2</h6></td> </tr>  </tbody></table> \n",
       "            <hr>\n",
       "            <table width=\"100%\">\n",
       "                <tr width = \"100%\"  height =\"10\">\n",
       "                    <td  style=\"width: 25%\"> <h6 style=\"margin:2px;\"> Legend</h6></td>\n",
       "                    <td style=\"background: #008066; width: 25%; color:white;\"><h6 style=\"margin:2px;\">Minimum 0</h6></td>\n",
       "                    <td style=\"background: #80c066; width: 25%\"><h6 style=\"margin:2px;\">Average 10</h6></td>\n",
       "                    <td style=\"background: #ffff66; width: 25%\"><h6 style=\"margin:2px;\">Maximum 19</h6></td>\n",
       "                </tr>\n",
       "            </table>\n",
       "    "
      ],
      "text/plain": [
       "<IPython.core.display.HTML object>"
      ]
     },
     "metadata": {},
     "output_type": "display_data"
    }
   ],
   "source": [
    "from IPython.core.display import display, HTML\n",
    "display(HTML(table))"
   ]
  },
  {
   "cell_type": "code",
   "execution_count": null,
   "id": "3ece5a98",
   "metadata": {},
   "outputs": [],
   "source": []
  }
 ],
 "metadata": {
  "kernelspec": {
   "display_name": "Python 3 (ipykernel)",
   "language": "python",
   "name": "python3"
  },
  "language_info": {
   "codemirror_mode": {
    "name": "ipython",
    "version": 3
   },
   "file_extension": ".py",
   "mimetype": "text/x-python",
   "name": "python",
   "nbconvert_exporter": "python",
   "pygments_lexer": "ipython3",
   "version": "3.9.13"
  }
 },
 "nbformat": 4,
 "nbformat_minor": 5
}
